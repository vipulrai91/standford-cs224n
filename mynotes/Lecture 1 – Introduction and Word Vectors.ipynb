{
 "cells": [
  {
   "cell_type": "markdown",
   "metadata": {},
   "source": [
    "One Hot Encoding Problems\n",
    "- Languages have a lot of words, the vector becomes large and unmaginable (infinite words)\n",
    "- No Relationship between words\n",
    "- Vectors are orthogonal\n",
    "\n",
    "\n",
    "We need someting where:\n",
    "- Representation on such a way that it gives similarlity between words      \n",
    "- Looking a word with context gives meaning\n",
    "\n",
    "**Distributional semantics** : A word's meaning is given by the words that frequently appear close by\n",
    " \n"
   ]
  },
  {
   "cell_type": "markdown",
   "metadata": {},
   "source": [
    "Word vectorsWe will build a dense vector for each word, chosen so that it is similar tovectors of words that appear in similar contextsNote: word vectors are sometimes called word embeddings or word representations. They are a distributedrepresentation.banking  =0.2860.792−0.177−0.1070.1"
   ]
  },
  {
   "cell_type": "code",
   "execution_count": null,
   "metadata": {},
   "outputs": [],
   "source": []
  }
 ],
 "metadata": {
  "kernelspec": {
   "display_name": "Python 3.7.7 64-bit ('ml': conda)",
   "language": "python",
   "name": "python37764bitmlcondab0e91abca1e444e6ba4cae782abe292d"
  },
  "language_info": {
   "codemirror_mode": {
    "name": "ipython",
    "version": 3
   },
   "file_extension": ".py",
   "mimetype": "text/x-python",
   "name": "python",
   "nbconvert_exporter": "python",
   "pygments_lexer": "ipython3",
   "version": "3.7.7"
  }
 },
 "nbformat": 4,
 "nbformat_minor": 4
}
